{
 "cells": [
  {
   "cell_type": "code",
   "execution_count": 39,
   "id": "86582ba3",
   "metadata": {},
   "outputs": [],
   "source": [
    "import pandas as pd\n",
    "import numpy as np\n",
    "import json\n",
    "import re"
   ]
  },
  {
   "cell_type": "code",
   "execution_count": 2,
   "id": "47857fc3",
   "metadata": {},
   "outputs": [],
   "source": [
    "filename = 'times.txt'\n",
    "csv = pd.read_csv(filename)"
   ]
  },
  {
   "cell_type": "code",
   "execution_count": 3,
   "id": "99e68c10",
   "metadata": {},
   "outputs": [],
   "source": [
    "import matplotlib.pyplot as plt"
   ]
  },
  {
   "cell_type": "code",
   "execution_count": null,
   "id": "f6f2858b",
   "metadata": {},
   "outputs": [],
   "source": [
    "df = csv\n",
    "\n",
    "def reformatTime(input):\n",
    "    aInput = input.split(\":\")\n",
    "    minutes =int(aInput[0])\n",
    "    seconds = int(aInput[1].split(\".\")[0])\n",
    "    return minutes*60 + seconds\n",
    "\n",
    "\n",
    "for i in range(len(df[\"totaltime\"])):\n",
    "    df[\"totaltime\"][i] = reformatTime(df[\"totaltime\"][i])\n",
    "    "
   ]
  },
  {
   "cell_type": "code",
   "execution_count": null,
   "id": "348eeb25",
   "metadata": {},
   "outputs": [],
   "source": [
    "df2 = pd.DataFrame(columns=['Cores', 'Runtime (s)', 'CPU Usage' 'Memory (k)'])\n",
    "\n",
    "myJson = {}\n",
    "\n",
    "for i in range(len(df[\"program\"])):\n",
    "\n",
    "    aKey = df[\"program\"][i].split()\n",
    "    primaryKey = aKey[1]\n",
    "    secondaryKey = \"x\" + aKey[4]+ \"y\" + aKey[5]\n",
    "\n",
    "    entry = {\"Cores\": int(aKey[4])*int(aKey[5]), \"Runtime (s)\": df[\"totaltime\"]\n",
    "             [i], \"CPU Usage\": df[\"cpu\"][i], \"Memory (k)\": df[\"memory\"][i]}\n",
    "\n",
    "    if primaryKey in myJson.keys():\n",
    "        if secondaryKey in myJson[primaryKey].keys():\n",
    "            myJson[primaryKey][secondaryKey].append(entry)\n",
    "        else:\n",
    "           myJson[primaryKey][secondaryKey] = []\n",
    "           myJson[primaryKey][secondaryKey].append(entry)  \n",
    "    else:\n",
    "        myJson[primaryKey] = {}\n",
    "        myJson[primaryKey][secondaryKey] = []\n",
    "        myJson[primaryKey][secondaryKey].append(entry)\n",
    "\n",
    "print(myJson)\n"
   ]
  },
  {
   "cell_type": "code",
   "execution_count": null,
   "id": "498269e0",
   "metadata": {},
   "outputs": [],
   "source": [
    "    "
   ]
  }
 ],
 "metadata": {
  "kernelspec": {
   "display_name": "Python 3 (ipykernel)",
   "language": "python",
   "name": "python3"
  },
  "language_info": {
   "codemirror_mode": {
    "name": "ipython",
    "version": 3
   },
   "file_extension": ".py",
   "mimetype": "text/x-python",
   "name": "python",
   "nbconvert_exporter": "python",
   "pygments_lexer": "ipython3",
   "version": "3.8.10"
  }
 },
 "nbformat": 4,
 "nbformat_minor": 5
}
